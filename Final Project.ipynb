{
  "cells": [
    {
      "cell_type": "markdown",
      "id": "b22005ec",
      "metadata": {},
      "source": [
        "# Final Project - DMA"
      ]
    },
    {
      "cell_type": "markdown",
      "id": "f42ce7c4",
      "metadata": {},
      "source": [
        "Reina Kassem Youssef - 02130269 \\\n",
        "Frédérique Roy - 02188217 \\\n",
        "Yousef Khalil - 02183384 \\\n",
        "Joseph Zahar - 01555368 "
      ]
    },
    {
      "cell_type": "code",
      "execution_count": 6,
      "id": "e3c761ad",
      "metadata": {},
      "outputs": [],
      "source": [
        "# import desired packages\n",
        "import numpy as np\n",
        "import pandas as pd\n",
        "import matplotlib.pyplot as plt \n",
        "import warnings\n",
        "import holidays\n",
        "warnings.filterwarnings(\"ignore\")\n",
        "from imblearn.over_sampling import SMOTE\n",
        "from sklearn.model_selection import train_test_split\n",
        "from sklearn.model_selection import GridSearchCV\n",
        "from sklearn import tree\n",
        "from sklearn.pipeline import Pipeline\n",
        "from sklearn.preprocessing import StandardScaler\n",
        "from sklearn import metrics\n",
        "from sklearn.metrics import confusion_matrix\n",
        "from sklearn.ensemble import RandomForestClassifier\n",
        "from sklearn.metrics import classification_report\n",
        "from sklearn.metrics import roc_auc_score\n",
        "from sklearn import svm\n",
        "from sklearn.feature_selection import SelectKBest\n",
        "from sklearn.feature_selection import chi2\n",
        "from sklearn.linear_model import LogisticRegression\n",
        "from imblearn.under_sampling import NearMiss\n",
        "import lightgbm as lgb\n",
        "from tqdm import tqdm\n",
        "from sklearn.naive_bayes import GaussianNB"
      ]
    },
    {
      "cell_type": "code",
      "execution_count": 7,
      "id": "cba9c329",
      "metadata": {},
      "outputs": [],
      "source": [
        "# read and load the datasets and define the column names\n",
        "# yoochoose-buys.dat\n",
        "buys_df = pd.read_csv('/Users/macbookpro/Desktop/Digital Marketing Analytics/Assignments/Assignment 3/yoochoose-buys.dat', \n",
        "                  encoding='Windows-1252', names=['Session ID','Timestamp','Item ID','Price','Quantity'])\n",
        "# yoochoose-clicks.dat\n",
        "clicks_df = pd.read_csv('/Users/macbookpro/Desktop/Digital Marketing Analytics/Assignments/Assignment 3/yoochoose-clicks.dat', \n",
        "                 encoding='Windows-1252', names=['Session ID','Timestamp','Item ID','Category'])"
      ]
    },
    {
      "cell_type": "code",
      "execution_count": 8,
      "id": "9251a427",
      "metadata": {},
      "outputs": [
        {
          "data": {
            "text/html": [
              "<div>\n",
              "<style scoped>\n",
              "    .dataframe tbody tr th:only-of-type {\n",
              "        vertical-align: middle;\n",
              "    }\n",
              "\n",
              "    .dataframe tbody tr th {\n",
              "        vertical-align: top;\n",
              "    }\n",
              "\n",
              "    .dataframe thead th {\n",
              "        text-align: right;\n",
              "    }\n",
              "</style>\n",
              "<table border=\"1\" class=\"dataframe\">\n",
              "  <thead>\n",
              "    <tr style=\"text-align: right;\">\n",
              "      <th></th>\n",
              "      <th>Session ID</th>\n",
              "      <th>Timestamp</th>\n",
              "      <th>Item ID</th>\n",
              "      <th>Category</th>\n",
              "    </tr>\n",
              "  </thead>\n",
              "  <tbody>\n",
              "    <tr>\n",
              "      <th>0</th>\n",
              "      <td>1</td>\n",
              "      <td>2014-04-07T10:51:09.277Z</td>\n",
              "      <td>214536502</td>\n",
              "      <td>0</td>\n",
              "    </tr>\n",
              "    <tr>\n",
              "      <th>1</th>\n",
              "      <td>1</td>\n",
              "      <td>2014-04-07T10:54:09.868Z</td>\n",
              "      <td>214536500</td>\n",
              "      <td>0</td>\n",
              "    </tr>\n",
              "    <tr>\n",
              "      <th>2</th>\n",
              "      <td>1</td>\n",
              "      <td>2014-04-07T10:54:46.998Z</td>\n",
              "      <td>214536506</td>\n",
              "      <td>0</td>\n",
              "    </tr>\n",
              "    <tr>\n",
              "      <th>3</th>\n",
              "      <td>1</td>\n",
              "      <td>2014-04-07T10:57:00.306Z</td>\n",
              "      <td>214577561</td>\n",
              "      <td>0</td>\n",
              "    </tr>\n",
              "    <tr>\n",
              "      <th>4</th>\n",
              "      <td>2</td>\n",
              "      <td>2014-04-07T13:56:37.614Z</td>\n",
              "      <td>214662742</td>\n",
              "      <td>0</td>\n",
              "    </tr>\n",
              "  </tbody>\n",
              "</table>\n",
              "</div>"
            ],
            "text/plain": [
              "   Session ID                 Timestamp    Item ID Category\n",
              "0           1  2014-04-07T10:51:09.277Z  214536502        0\n",
              "1           1  2014-04-07T10:54:09.868Z  214536500        0\n",
              "2           1  2014-04-07T10:54:46.998Z  214536506        0\n",
              "3           1  2014-04-07T10:57:00.306Z  214577561        0\n",
              "4           2  2014-04-07T13:56:37.614Z  214662742        0"
            ]
          },
          "execution_count": 8,
          "metadata": {},
          "output_type": "execute_result"
        }
      ],
      "source": [
        "# check correct read of the data files\n",
        "clicks_df.head(5)"
      ]
    },
    {
      "cell_type": "markdown",
      "id": "8dfb6a4a",
      "metadata": {},
      "source": [
        "## Data Exploratory Analysis"
      ]
    },
    {
      "cell_type": "code",
      "execution_count": 9,
      "id": "99c277e0",
      "metadata": {},
      "outputs": [],
      "source": [
        "# Convert timestamp provided from object dtype to timestamp dtype\n",
        "buys_df['datetime'] = pd.to_datetime(buys_df['Timestamp'])\n",
        "clicks_df['datetime'] = pd.to_datetime(clicks_df['Timestamp'])\n",
        "clicks_df = clicks_df.set_index('datetime')\n",
        "buys_df = buys_df.set_index('datetime')"
      ]
    },
    {
      "cell_type": "code",
      "execution_count": 10,
      "id": "c421f508",
      "metadata": {},
      "outputs": [],
      "source": [
        "sessions_buys = set()\n",
        "for i in buys_df['Session ID']:\n",
        "    sessions_buys.add(i)\n",
        "\n",
        "clicks_df['buy?'] = clicks_df['Session ID'].apply(lambda x: 1 if x in sessions_buys else 0)\n",
        "clicks_df['yes_buy'] = clicks_df['Session ID'].apply(lambda x: 1 if x in sessions_buys else 0)\n",
        "clicks_df['no_buy'] = clicks_df['Session ID'].apply(lambda x: 0 if x in sessions_buys else 1)"
      ]
    },
    {
      "cell_type": "markdown",
      "id": "a9d7f6ed",
      "metadata": {},
      "source": [
        "### Temporal Attributes"
      ]
    },
    {
      "cell_type": "code",
      "execution_count": 11,
      "id": "e4f62dda",
      "metadata": {},
      "outputs": [],
      "source": [
        "# Lets use the datetime feature to generate relevant temporal attributes\n",
        "uk_holidays = holidays.country_holidays('GB')  \n",
        "\n",
        "def addfeatures(data):\n",
        "    data['weekday'] = data.index.weekday\n",
        "    data['hour'] = data.index.hour\n",
        "    data['day'] = data.index.dayofyear\n",
        "    data['month'] = data.index.month\n",
        "    data['holidays name'] = pd.Series(data.index).apply(lambda x: uk_holidays.get(x)).values\n",
        "    data['holidays name'] = data['holidays name'].fillna('no')\n",
        "    data.loc[data['holidays name'].str.contains(\"St. Patrick's Day\"), 'holidays name'] = 'no' \n",
        "    data['holidays'] = np.where(data['holidays name'] == 'no', 0, 1)\n",
        "    return data\n",
        "\n",
        "clicks_df = addfeatures(clicks_df)"
      ]
    },
    {
      "cell_type": "markdown",
      "id": "6069174e",
      "metadata": {},
      "source": [
        "#### Weekday"
      ]
    },
    {
      "cell_type": "code",
      "execution_count": 12,
      "id": "1273dac2",
      "metadata": {},
      "outputs": [
        {
          "data": {
            "image/png": "[encoded data removed]",
            "text/plain": [
              "<Figure size 576x360 with 2 Axes>"
            ]
          },
          "metadata": {
            "needs_background": "light"
          },
          "output_type": "display_data"
        }
      ],
      "source": [
        "clicks_df_weekday = clicks_df.groupby('weekday')['Session ID'].nunique().sort_values()\n",
        "clicks_df_weekday_2 = clicks_df.groupby('weekday')['yes_buy','no_buy'].sum().sort_values('yes_buy')\n",
        "\n",
        "plt.rcParams[\"figure.figsize\"] = [8, 5]\n",
        "clicks_df_weekday_2.plot(kind='bar',subplots=True,sharex=True, \n",
        "                         #title=\"Number of online sessions per weekday per category\",\n",
        "                         legend=False, color = ['yellowgreen', 'crimson'])\n",
        "plt.xlabel('Day of the Week')\n",
        "plt.xticks((5, 0, 3, 2, 1, 4, 6), ('Monday', 'Tuesday', 'Wednesday', 'Thursday', 'Friday', 'Saturday', 'Sunday'), \n",
        "           rotation = 45)\n",
        "plt.show()"
      ]
    },
    {
      "cell_type": "code",
      "execution_count": 13,
      "id": "f39fcc84",
      "metadata": {},
      "outputs": [
        {
          "data": {
            "image/png": "[encoded data removed]",
            "text/plain": [
              "<Figure size 576x360 with 1 Axes>"
            ]
          },
          "metadata": {
            "needs_background": "light"
          },
          "output_type": "display_data"
        }
      ],
      "source": [
        "plt.rcParams[\"figure.figsize\"] = [8, 5]\n",
        "clicks_df_weekday.plot.bar(color = 'royalblue')\n",
        "plt.xlabel('Day of the Week')\n",
        "plt.ylabel('Number of Sessions')\n",
        "plt.xticks((5, 0, 4, 3, 1, 2, 6), ('Monday', 'Tuesday', 'Wednesday', 'Thursday', 'Friday', 'Saturday', 'Sunday'), \n",
        "           rotation = 45)\n",
        "#plt.title(\"Number of online sessions per weekday\")\n",
        "plt.show()"
      ]
    },
    {
      "cell_type": "markdown",
      "id": "24279238",
      "metadata": {},
      "source": [
        "#### Hourly"
      ]
    },
    {
      "cell_type": "code",
      "execution_count": 14,
      "id": "825ed3f5",
      "metadata": {},
      "outputs": [
        {
          "data": {
            "image/png": "[encoded data removed]",
            "text/plain": [
              "<Figure size 720x360 with 2 Axes>"
            ]
          },
          "metadata": {
            "needs_background": "light"
          },
          "output_type": "display_data"
        }
      ],
      "source": [
        "clicks_df_hour = clicks_df.groupby('hour')['Session ID'].nunique()\n",
        "clicks_df_hour_2 = clicks_df.groupby('hour')['yes_buy','no_buy'].sum()\n",
        "\n",
        "\n",
        "plt.rcParams[\"figure.figsize\"] = [10, 5]\n",
        "clicks_df_hour_2.plot(kind='bar',subplots=True,sharex=True, \n",
        "                         #title=\"Number of online sessions per hour per category\",\n",
        "                         legend=False, color = ['yellowgreen', 'crimson'])\n",
        "plt.xticks(rotation = 0)\n",
        "plt.xlabel('Time of the day (Hourly)')\n",
        "plt.show()"
      ]
    },
    {
      "cell_type": "code",
      "execution_count": 15,
      "id": "ae65dfd0",
      "metadata": {},
      "outputs": [
        {
          "data": {
            "image/png": "[encoded data removed]",
            "text/plain": [
              "<Figure size 720x360 with 1 Axes>"
            ]
          },
          "metadata": {
            "needs_background": "light"
          },
          "output_type": "display_data"
        }
      ],
      "source": [
        "plt.rcParams[\"figure.figsize\"] = [10, 5]\n",
        "clicks_df_hour.plot.bar(color = 'royalblue')\n",
        "plt.xticks(rotation = 0)\n",
        "plt.xlabel('Time of the day (Hourly)')\n",
        "plt.ylabel('Number of Sessions')\n",
        "#plt.title('Number of online sessions per hour')\n",
        "plt.show()"
      ]
    },
    {
      "cell_type": "markdown",
      "id": "d84d1d13",
      "metadata": {},
      "source": [
        "#### Monthly"
      ]
    },
    {
      "cell_type": "code",
      "execution_count": 16,
      "id": "cd6c5e6a",
      "metadata": {},
      "outputs": [
        {
          "data": {
            "image/png": "[encoded data removed]",
            "text/plain": [
              "<Figure size 576x360 with 1 Axes>"
            ]
          },
          "metadata": {
            "needs_background": "light"
          },
          "output_type": "display_data"
        }
      ],
      "source": [
        "clicks_df_month = clicks_df.groupby('month')['Session ID'].nunique()\n",
        "plt.rcParams[\"figure.figsize\"] = [8, 5]\n",
        "clicks_df_month.plot.bar(color = 'royalblue')\n",
        "plt.xticks(rotation = 0)\n",
        "plt.xlabel('Month of the year')\n",
        "plt.ylabel('Number of Sessions')\n",
        "plt.xticks((0,1,2,3,4,5), ('April', 'May', 'June', 'July', 'August', 'September'), rotation = 45)\n",
        "#plt.title('Number of online sessions per month')\n",
        "plt.show()"
      ]
    },
    {
      "cell_type": "markdown",
      "id": "7261291f",
      "metadata": {},
      "source": [
        "### Statistical Attributes"
      ]
    },
    {
      "cell_type": "markdown",
      "id": "ad304b23",
      "metadata": {},
      "source": [
        "#### Session Duration"
      ]
    },
    {
      "cell_type": "code",
      "execution_count": 17,
      "id": "559cf234",
      "metadata": {},
      "outputs": [
        {
          "data": {
            "image/png": "[encoded data removed]",
            "text/plain": [
              "<Figure size 1080x360 with 2 Axes>"
            ]
          },
          "metadata": {
            "needs_background": "light"
          },
          "output_type": "display_data"
        }
      ],
      "source": [
        "clicks_df_duration_no = clicks_df[clicks_df['buy?'] == 0]\n",
        "clicks_df_duration_yes = clicks_df[clicks_df['buy?'] == 1]\n",
        "figure, axes = plt.subplots(1, 2, figsize = (15,5))\n",
        "\n",
        "clicks_df_duration_no = clicks_df_duration_no.reset_index()\n",
        "clicks_df_duration_no = clicks_df_duration_no.groupby('Session ID')['datetime'].agg(['first','last'])\n",
        "clicks_df_duration_no['duration'] = round((clicks_df_duration_no['last'] - clicks_df_duration_no['first']).dt.total_seconds()/ 60.0,0)\n",
        "clicks_df_duration_no = clicks_df_duration_no[clicks_df_duration_no.duration >= 1]\n",
        "clicks_df_duration_no_f = clicks_df_duration_no.groupby('duration').count()\n",
        "clicks_df_duration_no_f = clicks_df_duration_no_f.loc[:, 'first']\n",
        "\n",
        "clicks_df_duration_yes = clicks_df_duration_yes.reset_index()\n",
        "clicks_df_duration_yes = clicks_df_duration_yes.groupby('Session ID')['datetime'].agg(['first','last'])\n",
        "clicks_df_duration_yes['duration'] = round((clicks_df_duration_yes['last'] - clicks_df_duration_yes['first']).dt.total_seconds()/ 60.0,0)\n",
        "clicks_df_duration_yes = clicks_df_duration_yes[clicks_df_duration_yes.duration >= 1]\n",
        "clicks_df_duration_yes_f = clicks_df_duration_yes.groupby('duration').count()\n",
        "clicks_df_duration_yes_f = clicks_df_duration_yes_f.loc[:, 'first']\n",
        "\n",
        "clicks_df_duration_yes_f.plot.bar(color = 'yellowgreen',ax = axes[0])\n",
        "clicks_df_duration_no_f.plot.bar(color = 'red', ax = axes[1])\n",
        "\n",
        "axes[0].set_xlim([-1, 35])\n",
        "axes[1].set_xlim([-1, 35])\n",
        "axes[0].set_xlabel('Duration in minute')\n",
        "axes[1].set_xlabel('Duration in minute')\n",
        "axes[0].set_ylabel('Number of sessions')\n",
        "axes[1].set_ylabel('Number of sessions')\n",
        "#axes[0].set_title('Number of sessions that lead to a purchase')\n",
        "#axes[1].set_title('Number of sessions that lead to no purchase')\n",
        "\n",
        "plt.show()"
      ]
    },
    {
      "cell_type": "markdown",
      "id": "f14c493b",
      "metadata": {},
      "source": [
        "#### Class Balance (distinct sessions)"
      ]
    },
    {
      "cell_type": "code",
      "execution_count": 18,
      "id": "bb68b78d",
      "metadata": {},
      "outputs": [
        {
          "data": {
            "image/png": "[encoded data removed]",
            "text/plain": [
              "<Figure size 576x360 with 1 Axes>"
            ]
          },
          "metadata": {
            "needs_background": "light"
          },
          "output_type": "display_data"
        },
        {
          "name": "stdout",
          "output_type": "stream",
          "text": [
            "Approximately, 5.83% of the given sessions lead to a buy event. We have a clear imbalance between both classes.\n"
          ]
        }
      ],
      "source": [
        "plt.figure(figsize=(8, 5))\n",
        "clicks_df_classes = clicks_df.groupby('buy?')['Session ID'].nunique()\n",
        "clicks_df_classes.plot.bar(color = ['crimson','yellowgreen'])\n",
        "plt.ylabel('Number of Sessions')\n",
        "plt.xlabel('')\n",
        "plt.xticks((0,1), ('No Purchase', 'Purchase'), rotation = 0)\n",
        "plt.show()\n",
        "\n",
        "print(f'Approximately, {round(clicks_df_classes[1]*100/clicks_df_classes[0],2)}% of the given sessions lead to a buy event. We have a clear imbalance between both classes.')"
      ]
    },
    {
      "cell_type": "markdown",
      "id": "4bc4ba7b",
      "metadata": {},
      "source": [
        "#### Total items viewed per session"
      ]
    },
    {
      "cell_type": "code",
      "execution_count": 19,
      "id": "c103c81e",
      "metadata": {},
      "outputs": [
        {
          "name": "stdout",
          "output_type": "stream",
          "text": [
            "On average, sessions that lead to a purchase record 6.74 clicks, while sessions with no purchases records 3.79 clicks in total\n"
          ]
        }
      ],
      "source": [
        "clicks_df_tviews = clicks_df.groupby('Session ID')['Item ID'].count()\n",
        "clicks_df_tviews = clicks_df_tviews.reset_index()\n",
        "clicks_df_tviews['buys?'] = clicks_df_tviews['Session ID'].apply(lambda x: 1 if x in sessions_buys else 0)\n",
        "clicks_df_tviews = clicks_df_tviews[clicks_df_tviews['Item ID'] > 1]\n",
        "clicks_df_tviews_avg = clicks_df_tviews.groupby('buys?')['Item ID'].mean()\n",
        "print(f'On average, sessions that lead to a purchase record {round(clicks_df_tviews_avg[1],2)} clicks, while sessions with no purchases records {round(clicks_df_tviews_avg[0],2)} clicks in total')"
      ]
    },
    {
      "cell_type": "markdown",
      "id": "09ec80c7",
      "metadata": {},
      "source": [
        "#### Unique items viewed per session"
      ]
    },
    {
      "cell_type": "code",
      "execution_count": 20,
      "id": "add63f86",
      "metadata": {},
      "outputs": [
        {
          "name": "stdout",
          "output_type": "stream",
          "text": [
            "On average, sessions that lead to a purchase record 4.54 clicks, while sessions with no purchases records 2.78 clicks in total\n"
          ]
        }
      ],
      "source": [
        "clicks_df_uviews = clicks_df.groupby('Session ID')['Item ID'].nunique()\n",
        "clicks_df_uviews = clicks_df_uviews.reset_index()\n",
        "clicks_df_uviews['buys?'] = clicks_df_uviews['Session ID'].apply(lambda x: 1 if x in sessions_buys else 0)\n",
        "clicks_df_uviews_avg = clicks_df_uviews.groupby('buys?')['Item ID'].mean()\n",
        "print(f'On average, sessions that lead to a purchase record {round(clicks_df_uviews_avg[1],2)} clicks, while sessions with no purchases records {round(clicks_df_uviews_avg[0],2)} clicks in total')"
      ]
    },
    {
      "cell_type": "code",
      "execution_count": 21,
      "id": "141c9081",
      "metadata": {},
      "outputs": [
        {
          "data": {
            "image/png": "[encoded data removed]",
            "text/plain": [
              "<Figure size 576x360 with 1 Axes>"
            ]
          },
          "metadata": {
            "needs_background": "light"
          },
          "output_type": "display_data"
        }
      ],
      "source": [
        "plt.rcParams[\"figure.figsize\"] = [8, 5]\n",
        "clicks_df_tviews_avg = clicks_df_tviews_avg.reset_index()\n",
        "clicks_df_uviews_avg = clicks_df_uviews_avg.reset_index()\n",
        "clicks_df_views = pd.merge(clicks_df_tviews_avg, clicks_df_uviews_avg, how=\"inner\", on=[\"buys?\"])\n",
        "clicks_df_views = clicks_df_views.set_index('buys?')\n",
        "ax = clicks_df_views.plot.bar(color = ['mediumvioletred', 'skyblue'])\n",
        "plt.ylabel('Average Clicks')\n",
        "plt.xlabel('')\n",
        "plt.title('Average number of clicks for all and unique items per category')\n",
        "plt.legend(['All Items', 'Unique Items'])\n",
        "plt.xticks((0,1), ('No Purchase', 'Purchase'), rotation = 0)\n",
        "\n",
        "for p in ax.patches:\n",
        "    ax.annotate(str(p.get_height())[:4], (p.get_x() * 1.005, p.get_height() * 1.005))\n",
        "plt.show()"
      ]
    },
    {
      "cell_type": "markdown",
      "id": "e8277fcb",
      "metadata": {},
      "source": [
        "#### Clicks per sessions duration"
      ]
    },
    {
      "cell_type": "code",
      "execution_count": 22,
      "id": "286f63d6",
      "metadata": {},
      "outputs": [
        {
          "data": {
            "image/png": "[encoded data removed]",
            "text/plain": [
              "<Figure size 576x360 with 1 Axes>"
            ]
          },
          "metadata": {
            "needs_background": "light"
          },
          "output_type": "display_data"
        }
      ],
      "source": [
        "clicks_df_duration = clicks_df.copy().reset_index()\n",
        "clicks_df_duration = clicks_df_duration.groupby('Session ID')['datetime'].agg(['first','last'])\n",
        "clicks_df_duration['duration'] = (clicks_df_duration['last'] - clicks_df_duration['first']).dt.total_seconds()/60\n",
        "clicks_df_duration = clicks_df_duration.reset_index()\n",
        "\n",
        "clicks_df_clickrate = pd.merge(clicks_df_duration, clicks_df_tviews, how = 'inner', on = ['Session ID'])\n",
        "clicks_df_clickrate['buys?'] = clicks_df_clickrate['Session ID'].apply(lambda x: 1 if x in sessions_buys else 0)\n",
        "clicks_df_clickrate['click_rate_min'] = clicks_df_clickrate['Item ID']/clicks_df_clickrate['duration']\n",
        "clicks_df_clickrate.replace([np.inf, -np.inf], np.nan, inplace=True)\n",
        "clicks_df_clickrate_f = clicks_df_clickrate.groupby('buys?')['click_rate_min'].mean()\n",
        "ax = clicks_df_clickrate_f.plot.bar(color = ['firebrick','navy'])\n",
        "plt.ylabel('Average Clicks per minute')\n",
        "plt.xlabel('')\n",
        "#plt.title('Average Clicks per minute for each category')\n",
        "plt.xticks((0,1), ('No Purchase', 'Purchase'), rotation = 0)\n",
        "for p in ax.patches:\n",
        "    ax.annotate(str(p.get_height())[:4], (p.get_x() * 1.005, p.get_height() * 1.005))\n",
        "plt.show()"
      ]
    },
    {
      "cell_type": "markdown",
      "id": "14bbbd59",
      "metadata": {},
      "source": [
        "#### Max and Mean Dwell Time"
      ]
    },
    {
      "cell_type": "code",
      "execution_count": 23,
      "id": "5f71dcda",
      "metadata": {},
      "outputs": [],
      "source": [
        "clicks_df_dwell = clicks_df.copy().reset_index()\n",
        "clicks_df_dwell['prev'] = clicks_df_dwell.groupby('Session ID')['datetime'].transform(lambda x: x.shift())\n",
        "clicks_df_dwell['diff_prev'] = clicks_df_dwell[\"datetime\"] - clicks_df_dwell[\"prev\"] \n",
        "clicks_df_dwell[\"dwell\"] = clicks_df_dwell.groupby('Session ID')['diff_prev'].transform(lambda x: x.shift(-1)).dt.seconds/60\n",
        "clicks_df_maxdwell = clicks_df_dwell.groupby('Session ID')['dwell'].max()\n",
        "clicks_df_meandwell = clicks_df_dwell.groupby('Session ID')['dwell'].mean()"
      ]
    },
    {
      "cell_type": "markdown",
      "id": "c3fb0148",
      "metadata": {},
      "source": [
        "#### Most Viewed Item"
      ]
    },
    {
      "cell_type": "code",
      "execution_count": 24,
      "id": "306d0f25",
      "metadata": {},
      "outputs": [
        {
          "data": {
            "text/html": [
              "<div>\n",
              "<style scoped>\n",
              "    .dataframe tbody tr th:only-of-type {\n",
              "        vertical-align: middle;\n",
              "    }\n",
              "\n",
              "    .dataframe tbody tr th {\n",
              "        vertical-align: top;\n",
              "    }\n",
              "\n",
              "    .dataframe thead th {\n",
              "        text-align: right;\n",
              "    }\n",
              "</style>\n",
              "<table border=\"1\" class=\"dataframe\">\n",
              "  <thead>\n",
              "    <tr style=\"text-align: right;\">\n",
              "      <th></th>\n",
              "      <th>Item ID</th>\n",
              "      <th>count</th>\n",
              "    </tr>\n",
              "    <tr>\n",
              "      <th>Session ID</th>\n",
              "      <th></th>\n",
              "      <th></th>\n",
              "    </tr>\n",
              "  </thead>\n",
              "  <tbody>\n",
              "    <tr>\n",
              "      <th>1</th>\n",
              "      <td>214577561</td>\n",
              "      <td>1</td>\n",
              "    </tr>\n",
              "    <tr>\n",
              "      <th>2</th>\n",
              "      <td>214825110</td>\n",
              "      <td>2</td>\n",
              "    </tr>\n",
              "    <tr>\n",
              "      <th>3</th>\n",
              "      <td>214832672</td>\n",
              "      <td>1</td>\n",
              "    </tr>\n",
              "    <tr>\n",
              "      <th>4</th>\n",
              "      <td>214836765</td>\n",
              "      <td>1</td>\n",
              "    </tr>\n",
              "    <tr>\n",
              "      <th>6</th>\n",
              "      <td>214826623</td>\n",
              "      <td>1</td>\n",
              "    </tr>\n",
              "  </tbody>\n",
              "</table>\n",
              "</div>"
            ],
            "text/plain": [
              "              Item ID  count\n",
              "Session ID                  \n",
              "1           214577561      1\n",
              "2           214825110      2\n",
              "3           214832672      1\n",
              "4           214836765      1\n",
              "6           214826623      1"
            ]
          },
          "execution_count": 24,
          "metadata": {},
          "output_type": "execute_result"
        }
      ],
      "source": [
        "clicks_df_mvi = clicks_df.copy()\n",
        "clicks_df_mvi = clicks_df_mvi.groupby(['Session ID', 'Item ID'])['Item ID'].count() \n",
        "clicks_df_mvi = clicks_df_mvi.reset_index(name = 'count')\n",
        "clicks_df_mvi = clicks_df_mvi.groupby('Session ID').max('count')\n",
        "clicks_df_mvi.head()"
      ]
    },
    {
      "cell_type": "code",
      "execution_count": 25,
      "id": "34625790",
      "metadata": {},
      "outputs": [
        {
          "data": {
            "image/png": "[encoded data removed]",
            "text/plain": [
              "<Figure size 576x360 with 1 Axes>"
            ]
          },
          "metadata": {
            "needs_background": "light"
          },
          "output_type": "display_data"
        }
      ],
      "source": [
        "clicks_df_mvi2 = clicks_df_mvi.copy().reset_index()\n",
        "clicks_df_mvi2['buy?'] = clicks_df_mvi2['Session ID'].apply(lambda x: 1 if x in sessions_buys else 0)\n",
        "clicks_df_mvi2 = clicks_df_mvi2.groupby('buy?').mean()\n",
        "clicks_df_mvi2['mean dwell'] = clicks_df_dwell.groupby('buy?')['dwell'].mean()\n",
        "ax = clicks_df_mvi2.loc[:, ['count', 'mean dwell']].plot.bar(color = ['turquoise','red'])\n",
        "plt.ylabel('')\n",
        "plt.xlabel('')\n",
        "#plt.title('Average Clicks per minute for each category')\n",
        "plt.xticks((0,1), ('No Purchase', 'Purchase'), rotation = 0)\n",
        "for p in ax.patches:\n",
        "    ax.annotate(str(p.get_height())[:4], (p.get_x() * 1.005, p.get_height() * 1.005))\n",
        "plt.show()"
      ]
    },
    {
      "cell_type": "markdown",
      "id": "bd985bcb",
      "metadata": {},
      "source": [
        "## Feature Engineering"
      ]
    },
    {
      "cell_type": "code",
      "execution_count": 26,
      "id": "e19bfbd6",
      "metadata": {},
      "outputs": [
        {
          "data": {
            "text/html": [
              "<div>\n",
              "<style scoped>\n",
              "    .dataframe tbody tr th:only-of-type {\n",
              "        vertical-align: middle;\n",
              "    }\n",
              "\n",
              "    .dataframe tbody tr th {\n",
              "        vertical-align: top;\n",
              "    }\n",
              "\n",
              "    .dataframe thead th {\n",
              "        text-align: right;\n",
              "    }\n",
              "</style>\n",
              "<table border=\"1\" class=\"dataframe\">\n",
              "  <thead>\n",
              "    <tr style=\"text-align: right;\">\n",
              "      <th></th>\n",
              "      <th>Timestamp</th>\n",
              "      <th>Category</th>\n",
              "      <th>weekday</th>\n",
              "      <th>hour</th>\n",
              "      <th>day</th>\n",
              "      <th>month</th>\n",
              "      <th>holidays name</th>\n",
              "      <th>holidays</th>\n",
              "      <th>buy?</th>\n",
              "    </tr>\n",
              "    <tr>\n",
              "      <th>Session ID</th>\n",
              "      <th></th>\n",
              "      <th></th>\n",
              "      <th></th>\n",
              "      <th></th>\n",
              "      <th></th>\n",
              "      <th></th>\n",
              "      <th></th>\n",
              "      <th></th>\n",
              "      <th></th>\n",
              "    </tr>\n",
              "  </thead>\n",
              "  <tbody>\n",
              "    <tr>\n",
              "      <th>1</th>\n",
              "      <td>2014-04-07T10:51:09.277Z</td>\n",
              "      <td>0</td>\n",
              "      <td>0</td>\n",
              "      <td>10</td>\n",
              "      <td>97</td>\n",
              "      <td>4</td>\n",
              "      <td>no</td>\n",
              "      <td>0</td>\n",
              "      <td>0</td>\n",
              "    </tr>\n",
              "    <tr>\n",
              "      <th>2</th>\n",
              "      <td>2014-04-07T13:56:37.614Z</td>\n",
              "      <td>0</td>\n",
              "      <td>0</td>\n",
              "      <td>13</td>\n",
              "      <td>97</td>\n",
              "      <td>4</td>\n",
              "      <td>no</td>\n",
              "      <td>0</td>\n",
              "      <td>0</td>\n",
              "    </tr>\n",
              "    <tr>\n",
              "      <th>3</th>\n",
              "      <td>2014-04-02T13:17:46.940Z</td>\n",
              "      <td>0</td>\n",
              "      <td>2</td>\n",
              "      <td>13</td>\n",
              "      <td>92</td>\n",
              "      <td>4</td>\n",
              "      <td>no</td>\n",
              "      <td>0</td>\n",
              "      <td>0</td>\n",
              "    </tr>\n",
              "    <tr>\n",
              "      <th>4</th>\n",
              "      <td>2014-04-07T12:09:10.948Z</td>\n",
              "      <td>0</td>\n",
              "      <td>0</td>\n",
              "      <td>12</td>\n",
              "      <td>97</td>\n",
              "      <td>4</td>\n",
              "      <td>no</td>\n",
              "      <td>0</td>\n",
              "      <td>0</td>\n",
              "    </tr>\n",
              "    <tr>\n",
              "      <th>6</th>\n",
              "      <td>2014-04-06T16:58:20.848Z</td>\n",
              "      <td>0</td>\n",
              "      <td>6</td>\n",
              "      <td>16</td>\n",
              "      <td>96</td>\n",
              "      <td>4</td>\n",
              "      <td>no</td>\n",
              "      <td>0</td>\n",
              "      <td>0</td>\n",
              "    </tr>\n",
              "  </tbody>\n",
              "</table>\n",
              "</div>"
            ],
            "text/plain": [
              "                           Timestamp Category  weekday  hour  day  month  \\\n",
              "Session ID                                                                 \n",
              "1           2014-04-07T10:51:09.277Z        0        0    10   97      4   \n",
              "2           2014-04-07T13:56:37.614Z        0        0    13   97      4   \n",
              "3           2014-04-02T13:17:46.940Z        0        2    13   92      4   \n",
              "4           2014-04-07T12:09:10.948Z        0        0    12   97      4   \n",
              "6           2014-04-06T16:58:20.848Z        0        6    16   96      4   \n",
              "\n",
              "           holidays name  holidays  buy?  \n",
              "Session ID                                \n",
              "1                     no         0     0  \n",
              "2                     no         0     0  \n",
              "3                     no         0     0  \n",
              "4                     no         0     0  \n",
              "6                     no         0     0  "
            ]
          },
          "execution_count": 26,
          "metadata": {},
          "output_type": "execute_result"
        }
      ],
      "source": [
        "# Our aim here is to incorporate all the attributes analysed above and feed to the ML algorithm\n",
        "# The first step is to create the temporal attribute as one table \n",
        "clicks_df_2 = pd.read_csv('/Users/macbookpro/Desktop/Digital Marketing Analytics/Assignments/Assignment 3/yoochoose-clicks.dat', \n",
        "                 encoding='Windows-1252', names=['Session ID','Timestamp','Item ID','Category'])\n",
        "\n",
        "clicks_df_temp = clicks_df_2.copy()\n",
        "clicks_df_temp['datetime'] = pd.to_datetime(clicks_df_temp['Timestamp'])\n",
        "clicks_df_temp = clicks_df_temp.set_index('datetime')\n",
        "\n",
        "def add_temporal_attributes(data):\n",
        "    data['weekday'] = data.index.weekday\n",
        "    data['hour'] = data.index.hour\n",
        "    data['day'] = data.index.dayofyear\n",
        "    data['month'] = data.index.month\n",
        "    data['holidays name'] = pd.Series(data.index).apply(lambda x: uk_holidays.get(x)).values\n",
        "    data['holidays name'] = data['holidays name'].fillna('no')\n",
        "    data.loc[data['holidays name'].str.contains(\"St. Patrick's Day\"), 'holidays name'] = 'no' \n",
        "    data['holidays'] = np.where(data['holidays name'] == 'no', 0, 1)\n",
        "    data['buy?'] = data['Session ID'].apply(lambda x: 1 if x in sessions_buys else 0)\n",
        "    return data\n",
        "\n",
        "clicks_df_temp = add_temporal_attributes(clicks_df_temp)\n",
        "clicks_df_temp = clicks_df_temp.groupby('Session ID').first()\n",
        "clicks_df_temp = clicks_df_temp.drop('Item ID', axis = 1)\n",
        "clicks_df_temp.head()"
      ]
    },
    {
      "cell_type": "code",
      "execution_count": 27,
      "id": "58ce8605",
      "metadata": {},
      "outputs": [
        {
          "data": {
            "text/html": [
              "<div>\n",
              "<style scoped>\n",
              "    .dataframe tbody tr th:only-of-type {\n",
              "        vertical-align: middle;\n",
              "    }\n",
              "\n",
              "    .dataframe tbody tr th {\n",
              "        vertical-align: top;\n",
              "    }\n",
              "\n",
              "    .dataframe thead th {\n",
              "        text-align: right;\n",
              "    }\n",
              "</style>\n",
              "<table border=\"1\" class=\"dataframe\">\n",
              "  <thead>\n",
              "    <tr style=\"text-align: right;\">\n",
              "      <th></th>\n",
              "      <th>Session ID</th>\n",
              "      <th>all_views</th>\n",
              "      <th>duration</th>\n",
              "      <th>click_rate_min</th>\n",
              "      <th>unique_views</th>\n",
              "    </tr>\n",
              "  </thead>\n",
              "  <tbody>\n",
              "    <tr>\n",
              "      <th>0</th>\n",
              "      <td>1</td>\n",
              "      <td>4</td>\n",
              "      <td>5.85</td>\n",
              "      <td>0.683761</td>\n",
              "      <td>4</td>\n",
              "    </tr>\n",
              "    <tr>\n",
              "      <th>1</th>\n",
              "      <td>2</td>\n",
              "      <td>6</td>\n",
              "      <td>5.99</td>\n",
              "      <td>1.001669</td>\n",
              "      <td>5</td>\n",
              "    </tr>\n",
              "    <tr>\n",
              "      <th>2</th>\n",
              "      <td>3</td>\n",
              "      <td>3</td>\n",
              "      <td>12.42</td>\n",
              "      <td>0.241546</td>\n",
              "      <td>3</td>\n",
              "    </tr>\n",
              "    <tr>\n",
              "      <th>3</th>\n",
              "      <td>4</td>\n",
              "      <td>2</td>\n",
              "      <td>17.24</td>\n",
              "      <td>0.116009</td>\n",
              "      <td>2</td>\n",
              "    </tr>\n",
              "    <tr>\n",
              "      <th>4</th>\n",
              "      <td>6</td>\n",
              "      <td>2</td>\n",
              "      <td>4.10</td>\n",
              "      <td>0.487805</td>\n",
              "      <td>2</td>\n",
              "    </tr>\n",
              "  </tbody>\n",
              "</table>\n",
              "</div>"
            ],
            "text/plain": [
              "   Session ID  all_views  duration  click_rate_min  unique_views\n",
              "0           1          4      5.85        0.683761             4\n",
              "1           2          6      5.99        1.001669             5\n",
              "2           3          3     12.42        0.241546             3\n",
              "3           4          2     17.24        0.116009             2\n",
              "4           6          2      4.10        0.487805             2"
            ]
          },
          "execution_count": 27,
          "metadata": {},
          "output_type": "execute_result"
        }
      ],
      "source": [
        "# The second step is to create the statistical attributes\n",
        "# session duration \n",
        "clicks_df_duration = clicks_df_2.copy()\n",
        "clicks_df_duration['datetime'] = pd.to_datetime(clicks_df_duration['Timestamp'])\n",
        "clicks_df_duration = clicks_df_duration.groupby('Session ID')['datetime'].agg(['first','last'])\n",
        "clicks_df_duration['duration'] = round((clicks_df_duration['last'] - clicks_df_duration['first']).dt.total_seconds()/ 60.0,2)\n",
        "clicks_df_duration = clicks_df_duration.loc[:, 'duration']\n",
        "clicks_df_duration = clicks_df_duration.reset_index()\n",
        "\n",
        "# total items viewed\n",
        "clicks_df_items_t = clicks_df_2.copy()\n",
        "clicks_df_items_t['datetime'] = pd.to_datetime(clicks_df_items_t['Timestamp'])\n",
        "clicks_df_items_t = clicks_df_items_t.groupby('Session ID')['Item ID'].count()\n",
        "clicks_df_items_t = clicks_df_items_t.reset_index()\n",
        "clicks_df_items_t = clicks_df_items_t.rename(columns={clicks_df_items_t['Item ID'].name:'all_views'})\n",
        "\n",
        "# unique items viewed\n",
        "clicks_df_items_u = clicks_df_2.copy()\n",
        "clicks_df_items_u['datetime'] = pd.to_datetime(clicks_df_items_u['Timestamp'])\n",
        "clicks_df_items_u = clicks_df_items_u.groupby('Session ID')['Item ID'].nunique()\n",
        "clicks_df_items_u = clicks_df_items_u.reset_index()\n",
        "clicks_df_items_u = clicks_df_items_u.rename(columns={clicks_df_items_u['Item ID'].name:'unique_views'})\n",
        "\n",
        "# Click rate\n",
        "clicks_df_rate = pd.merge(clicks_df_items_t, clicks_df_duration, how = 'inner', on = ['Session ID'])\n",
        "clicks_df_rate['click_rate_min'] = clicks_df_rate['all_views']/clicks_df_rate['duration']\n",
        "clicks_df_rate.replace([np.inf, -np.inf], 0, inplace=True)\n",
        "\n",
        "# Join all the stats attributes\n",
        "clicks_df_stats = pd.merge(clicks_df_rate, clicks_df_items_u, how = 'inner', on = ['Session ID'])\n",
        "clicks_df_stats.head()"
      ]
    },
    {
      "cell_type": "code",
      "execution_count": 28,
      "id": "1963383d",
      "metadata": {},
      "outputs": [
        {
          "data": {
            "text/html": [
              "<div>\n",
              "<style scoped>\n",
              "    .dataframe tbody tr th:only-of-type {\n",
              "        vertical-align: middle;\n",
              "    }\n",
              "\n",
              "    .dataframe tbody tr th {\n",
              "        vertical-align: top;\n",
              "    }\n",
              "\n",
              "    .dataframe thead th {\n",
              "        text-align: right;\n",
              "    }\n",
              "</style>\n",
              "<table border=\"1\" class=\"dataframe\">\n",
              "  <thead>\n",
              "    <tr style=\"text-align: right;\">\n",
              "      <th></th>\n",
              "      <th>Session ID</th>\n",
              "      <th>all_views</th>\n",
              "      <th>duration</th>\n",
              "      <th>click_rate_min</th>\n",
              "      <th>unique_views</th>\n",
              "      <th>Timestamp</th>\n",
              "      <th>Category</th>\n",
              "      <th>weekday</th>\n",
              "      <th>hour</th>\n",
              "      <th>day</th>\n",
              "      <th>month</th>\n",
              "      <th>holidays name</th>\n",
              "      <th>holidays</th>\n",
              "      <th>buy?</th>\n",
              "      <th>max_dwell</th>\n",
              "      <th>mean_dwell</th>\n",
              "      <th>most_viewed</th>\n",
              "    </tr>\n",
              "  </thead>\n",
              "  <tbody>\n",
              "    <tr>\n",
              "      <th>0</th>\n",
              "      <td>1</td>\n",
              "      <td>4</td>\n",
              "      <td>5.85</td>\n",
              "      <td>0.683761</td>\n",
              "      <td>4</td>\n",
              "      <td>2014-04-07T10:51:09.277Z</td>\n",
              "      <td>0</td>\n",
              "      <td>0</td>\n",
              "      <td>10</td>\n",
              "      <td>97</td>\n",
              "      <td>4</td>\n",
              "      <td>no</td>\n",
              "      <td>0</td>\n",
              "      <td>0</td>\n",
              "      <td>0.000000</td>\n",
              "      <td>0.000000</td>\n",
              "      <td>0.0</td>\n",
              "    </tr>\n",
              "    <tr>\n",
              "      <th>1</th>\n",
              "      <td>2</td>\n",
              "      <td>6</td>\n",
              "      <td>5.99</td>\n",
              "      <td>1.001669</td>\n",
              "      <td>5</td>\n",
              "      <td>2014-04-07T13:56:37.614Z</td>\n",
              "      <td>0</td>\n",
              "      <td>0</td>\n",
              "      <td>13</td>\n",
              "      <td>97</td>\n",
              "      <td>4</td>\n",
              "      <td>no</td>\n",
              "      <td>0</td>\n",
              "      <td>0</td>\n",
              "      <td>3.000000</td>\n",
              "      <td>1.944444</td>\n",
              "      <td>1.0</td>\n",
              "    </tr>\n",
              "    <tr>\n",
              "      <th>2</th>\n",
              "      <td>3</td>\n",
              "      <td>3</td>\n",
              "      <td>12.42</td>\n",
              "      <td>0.241546</td>\n",
              "      <td>3</td>\n",
              "      <td>2014-04-02T13:17:46.940Z</td>\n",
              "      <td>0</td>\n",
              "      <td>2</td>\n",
              "      <td>13</td>\n",
              "      <td>92</td>\n",
              "      <td>4</td>\n",
              "      <td>no</td>\n",
              "      <td>0</td>\n",
              "      <td>0</td>\n",
              "      <td>1.966667</td>\n",
              "      <td>1.190000</td>\n",
              "      <td>2.0</td>\n",
              "    </tr>\n",
              "    <tr>\n",
              "      <th>3</th>\n",
              "      <td>4</td>\n",
              "      <td>2</td>\n",
              "      <td>17.24</td>\n",
              "      <td>0.116009</td>\n",
              "      <td>2</td>\n",
              "      <td>2014-04-07T12:09:10.948Z</td>\n",
              "      <td>0</td>\n",
              "      <td>0</td>\n",
              "      <td>12</td>\n",
              "      <td>97</td>\n",
              "      <td>4</td>\n",
              "      <td>no</td>\n",
              "      <td>0</td>\n",
              "      <td>0</td>\n",
              "      <td>8.250000</td>\n",
              "      <td>6.200000</td>\n",
              "      <td>1.0</td>\n",
              "    </tr>\n",
              "    <tr>\n",
              "      <th>4</th>\n",
              "      <td>6</td>\n",
              "      <td>2</td>\n",
              "      <td>4.10</td>\n",
              "      <td>0.487805</td>\n",
              "      <td>2</td>\n",
              "      <td>2014-04-06T16:58:20.848Z</td>\n",
              "      <td>0</td>\n",
              "      <td>6</td>\n",
              "      <td>16</td>\n",
              "      <td>96</td>\n",
              "      <td>4</td>\n",
              "      <td>no</td>\n",
              "      <td>0</td>\n",
              "      <td>0</td>\n",
              "      <td>17.233333</td>\n",
              "      <td>17.233333</td>\n",
              "      <td>1.0</td>\n",
              "    </tr>\n",
              "  </tbody>\n",
              "</table>\n",
              "</div>"
            ],
            "text/plain": [
              "   Session ID  all_views  duration  click_rate_min  unique_views  \\\n",
              "0           1          4      5.85        0.683761             4   \n",
              "1           2          6      5.99        1.001669             5   \n",
              "2           3          3     12.42        0.241546             3   \n",
              "3           4          2     17.24        0.116009             2   \n",
              "4           6          2      4.10        0.487805             2   \n",
              "\n",
              "                  Timestamp Category  weekday  hour  day  month holidays name  \\\n",
              "0  2014-04-07T10:51:09.277Z        0        0    10   97      4            no   \n",
              "1  2014-04-07T13:56:37.614Z        0        0    13   97      4            no   \n",
              "2  2014-04-02T13:17:46.940Z        0        2    13   92      4            no   \n",
              "3  2014-04-07T12:09:10.948Z        0        0    12   97      4            no   \n",
              "4  2014-04-06T16:58:20.848Z        0        6    16   96      4            no   \n",
              "\n",
              "   holidays  buy?  max_dwell  mean_dwell  most_viewed  \n",
              "0         0     0   0.000000    0.000000          0.0  \n",
              "1         0     0   3.000000    1.944444          1.0  \n",
              "2         0     0   1.966667    1.190000          2.0  \n",
              "3         0     0   8.250000    6.200000          1.0  \n",
              "4         0     0  17.233333   17.233333          1.0  "
            ]
          },
          "execution_count": 28,
          "metadata": {},
          "output_type": "execute_result"
        }
      ],
      "source": [
        "# Join all the desired attributes (both temporal and statistics)\n",
        "clicks_df_final = pd.merge(clicks_df_stats, clicks_df_temp, how = 'inner', on = ['Session ID'])\n",
        "clicks_df_final['max_dwell'] = clicks_df_maxdwell\n",
        "clicks_df_final['mean_dwell'] = clicks_df_meandwell\n",
        "clicks_df_final['most_viewed'] = clicks_df_mvi['count']\n",
        "clicks_df_final.replace([np.nan], 0, inplace=True)\n",
        "clicks_df_final.head()"
      ]
    },
    {
      "cell_type": "markdown",
      "id": "8c31183a",
      "metadata": {},
      "source": [
        "## Feature Selection"
      ]
    },
    {
      "cell_type": "code",
      "execution_count": 29,
      "id": "e1686ed4",
      "metadata": {
        "scrolled": false
      },
      "outputs": [
        {
          "data": {
            "image/png": "[encoded data removed]",
            "text/plain": [
              "<Figure size 432x360 with 2 Axes>"
            ]
          },
          "metadata": {
            "needs_background": "light"
          },
          "output_type": "display_data"
        }
      ],
      "source": [
        "import seaborn as sns\n",
        "plt.figure(figsize=(6,5))\n",
        "sns.heatmap(clicks_df_final.loc[:, ['all_views','duration','click_rate_min','unique_views','weekday','hour','day','month','holidays','max_dwell','mean_dwell','most_viewed']].corr())\n",
        "#plt.title('Visualising Multicollinearity between Attributes')\n",
        "plt.show()"
      ]
    },
    {
      "cell_type": "code",
      "execution_count": 30,
      "id": "08c2a716",
      "metadata": {},
      "outputs": [
        {
          "data": {
            "image/png": "[encoded data removed]",
            "text/plain": [
              "<Figure size 432x360 with 2 Axes>"
            ]
          },
          "metadata": {
            "needs_background": "light"
          },
          "output_type": "display_data"
        }
      ],
      "source": [
        "plt.figure(figsize=(6,5))\n",
        "sns.heatmap(clicks_df_final.loc[:, ['all_views','duration','click_rate_min','weekday','hour','month','holidays','mean_dwell','most_viewed']].corr())\n",
        "#plt.title('Visualising Multicollinearity between Attributes')\n",
        "plt.show()"
      ]
    },
    {
      "cell_type": "code",
      "execution_count": 31,
      "id": "9d826809",
      "metadata": {},
      "outputs": [
        {
          "name": "stdout",
          "output_type": "stream",
          "text": [
            "Before applying the SMOTE oversampling technique, counts of label purchase: 347737\n",
            "Before applying the SMOTE oversampling technique, counts of label no purchase: 5818749 \n",
            "\n",
            "After applying the SMOTE oversampling technique, counts of label purchase: 5818749\n",
            "After applying the SMOTE oversampling technique, counts of label no purchase: 5818749 \n",
            "\n",
            "After applying the Near Miss undersampling technique, counts of label purchase: 347737\n",
            "After applying the Near Miss undersampling technique, counts of label no purchase: 347737\n"
          ]
        }
      ],
      "source": [
        "clicks_df_final['datetime'] = pd.to_datetime(clicks_df_final['Timestamp'])\n",
        "clicks_df_final = clicks_df_final.sort_values(by=[\"datetime\"])\n",
        "y = clicks_df_final.loc[:, ['buy?']]\n",
        "X = clicks_df_final.loc[:, ['all_views','duration','click_rate_min','unique_views','weekday','hour','day','month','holidays','max_dwell','mean_dwell','most_viewed']]\n",
        "\n",
        "X_train, X_test, y_train, y_test = train_test_split(X, y, test_size = 1/3, random_state = 42, shuffle = False)\n",
        "\n",
        "# apply oversampling\n",
        "smote = SMOTE(random_state = 42)\n",
        "X_train_ov, y_train_ov = smote.fit_resample(X_train, y_train.values.ravel())\n",
        "\n",
        "print(\"Before applying the SMOTE oversampling technique, counts of label purchase: {}\".format(sum(y_train.values.ravel() == 1)))\n",
        "print(\"Before applying the SMOTE oversampling technique, counts of label no purchase: {} \\n\".format(sum(y_train.values.ravel() == 0)))\n",
        "  \n",
        "print(\"After applying the SMOTE oversampling technique, counts of label purchase: {}\".format(sum(y_train_ov == 1)))\n",
        "print(\"After applying the SMOTE oversampling technique, counts of label no purchase: {} \\n\".format(sum(y_train_ov == 0)))\n",
        "\n",
        "# apply undersampling\n",
        "nearmiss = NearMiss()\n",
        "X_train_un, y_train_un = nearmiss.fit_resample(X_train, y_train.values.ravel())\n",
        "\n",
        "print(\"After applying the Near Miss undersampling technique, counts of label purchase: {}\".format(sum(y_train_un == 1)))\n",
        "print(\"After applying the Near Miss undersampling technique, counts of label no purchase: {}\".format(sum(y_train_un == 0)))"
      ]
    },
    {
      "cell_type": "markdown",
      "id": "8834f0a0",
      "metadata": {},
      "source": [
        "## Predictive Modelling (ML)"
      ]
    },
    {
      "cell_type": "markdown",
      "id": "3a35ca62",
      "metadata": {},
      "source": [
        "### Decision Tree Classifier"
      ]
    },
    {
      "cell_type": "markdown",
      "id": "d5226042",
      "metadata": {},
      "source": [
        "#### Oversampling"
      ]
    },
    {
      "cell_type": "code",
      "execution_count": 32,
      "id": "f3871154",
      "metadata": {},
      "outputs": [
        {
          "name": "stdout",
          "output_type": "stream",
          "text": [
            "The accuracy of the tree is 83.687 %\n"
          ]
        }
      ],
      "source": [
        "DTC = tree.DecisionTreeClassifier(random_state = 100)\n",
        "DTC.fit(X_train_ov, y_train_ov)\n",
        "y_pred_dtc1 = DTC.predict(X_test) \n",
        "print(\"The accuracy of the tree is\", round(metrics.accuracy_score(y_test, y_pred_dtc1)*100,3),'%')"
      ]
    },
    {
      "cell_type": "code",
      "execution_count": 33,
      "id": "ce3d981d",
      "metadata": {},
      "outputs": [
        {
          "data": {
            "image/png": "[encoded data removed]",
            "text/plain": [
              "<Figure size 360x360 with 1 Axes>"
            ]
          },
          "metadata": {
            "needs_background": "light"
          },
          "output_type": "display_data"
        },
        {
          "name": "stdout",
          "output_type": "stream",
          "text": [
            "              precision    recall  f1-score   support\n",
            "\n",
            " No Purchase       0.95      0.87      0.91   2921284\n",
            "    Purchase       0.09      0.23      0.13    161959\n",
            "\n",
            "    accuracy                           0.84   3083243\n",
            "   macro avg       0.52      0.55      0.52   3083243\n",
            "weighted avg       0.91      0.84      0.87   3083243\n",
            "\n",
            "The ROC AUC score of the tree is 55.097 %\n"
          ]
        }
      ],
      "source": [
        "fig, ax = plt.subplots(figsize=(5,5))\n",
        "mat = confusion_matrix(y_test, y_pred_dtc1)\n",
        "sns.heatmap(mat.T, square = True, annot = True, fmt = 'd', cbar = False, xticklabels = ['No Purchase','Purchase'],\n",
        "            yticklabels = ['No Purchase','Purchase'], cmap=\"Blues\")\n",
        "plt.xlabel('true label')\n",
        "plt.ylabel('predicted label')\n",
        "plt.show()\n",
        "print(classification_report(y_test, y_pred_dtc1, target_names=['No Purchase','Purchase']))\n",
        "print(\"The ROC AUC score of the tree is\", round(roc_auc_score(y_test, y_pred_dtc1)*100,3),'%')"
      ]
    },
    {
      "cell_type": "markdown",
      "id": "ac1c07f8",
      "metadata": {},
      "source": [
        "#### Undersampling"
      ]
    },
    {
      "cell_type": "code",
      "execution_count": 34,
      "id": "66b347bc",
      "metadata": {},
      "outputs": [
        {
          "name": "stdout",
          "output_type": "stream",
          "text": [
            "The accuracy of the tree is 32.785 %\n"
          ]
        }
      ],
      "source": [
        "DTC = tree.DecisionTreeClassifier(random_state = 2)\n",
        "DTC.fit(X_train_un, y_train_un)\n",
        "y_pred_dtc2 = DTC.predict(X_test) \n",
        "print(\"The accuracy of the tree is\", round(metrics.accuracy_score(y_test, y_pred_dtc2)*100,3),'%')"
      ]
    },
    {
      "cell_type": "code",
      "execution_count": 35,
      "id": "849ee766",
      "metadata": {},
      "outputs": [
        {
          "data": {
            "image/png": "[encoded data removed]",
            "text/plain": [
              "<Figure size 360x360 with 1 Axes>"
            ]
          },
          "metadata": {
            "needs_background": "light"
          },
          "output_type": "display_data"
        },
        {
          "name": "stdout",
          "output_type": "stream",
          "text": [
            "              precision    recall  f1-score   support\n",
            "\n",
            " No Purchase       0.97      0.30      0.46   2921284\n",
            "    Purchase       0.06      0.86      0.12    161959\n",
            "\n",
            "    accuracy                           0.33   3083243\n",
            "   macro avg       0.52      0.58      0.29   3083243\n",
            "weighted avg       0.93      0.33      0.44   3083243\n",
            "\n",
            "The ROC AUC score of the tree is 57.959 %\n"
          ]
        }
      ],
      "source": [
        "fig, ax = plt.subplots(figsize=(5,5))\n",
        "mat = confusion_matrix(y_test, y_pred_dtc2)\n",
        "sns.heatmap(mat.T, square = True, annot = True, fmt = 'd', cbar = False, xticklabels = ['No Purchase','Purchase'],\n",
        "            yticklabels = ['No Purchase','Purchase'], cmap=\"Blues\")\n",
        "plt.xlabel('true label')\n",
        "plt.ylabel('predicted label')\n",
        "plt.show()\n",
        "print(classification_report(y_test, y_pred_dtc2, target_names=['No Purchase','Purchase']))\n",
        "print(\"The ROC AUC score of the tree is\", round(roc_auc_score(y_test, y_pred_dtc2)*100,3),'%')"
      ]
    },
    {
      "cell_type": "markdown",
      "id": "11ca04d2",
      "metadata": {},
      "source": [
        "### Logistic Regression"
      ]
    },
    {
      "cell_type": "markdown",
      "id": "9eaea0a6",
      "metadata": {},
      "source": [
        "#### Oversampling"
      ]
    },
    {
      "cell_type": "code",
      "execution_count": 69,
      "id": "884cecb6",
      "metadata": {},
      "outputs": [],
      "source": [
        "X1 = clicks_df_final.loc[:, ['all_views','duration','click_rate_min','unique_views','weekday','hour','day','month','holidays','max_dwell','mean_dwell','most_viewed']]\n",
        "X_s = StandardScaler().fit_transform(X1)\n",
        "X_scaled = pd.DataFrame(X_s, columns=X1.columns)\n",
        "X_train_sc, X_test_sc, y_train_sc, y_test_sc = train_test_split(X_scaled, y, test_size = 1/3, random_state = 42, shuffle = False)\n",
        "\n",
        "smote = SMOTE(random_state = 42)\n",
        "X_train_sc_ov, y_train_sc_ov = smote.fit_resample(X_train_sc, y_train_sc.values.ravel())\n",
        "\n",
        "nearmiss = NearMiss()\n",
        "X_train_sc_un, y_train_sc_un = nearmiss.fit_resample(X_train_sc, y_train_sc.values.ravel())"
      ]
    },
    {
      "cell_type": "code",
      "execution_count": 70,
      "id": "45b7e379",
      "metadata": {},
      "outputs": [
        {
          "name": "stdout",
          "output_type": "stream",
          "text": [
            "The accuracy of the logistic regression is 78.603 %\n"
          ]
        }
      ],
      "source": [
        "LR = LogisticRegression()\n",
        "LR.fit(X_train_sc_ov, y_train_sc_ov)\n",
        "y_pred_lr1 = LR.predict(X_test_sc)\n",
        "print(\"The accuracy of the logistic regression is\", round(metrics.accuracy_score(y_test_sc, y_pred_lr1)*100,3),'%')"
      ]
    },
    {
      "cell_type": "code",
      "execution_count": 71,
      "id": "49d91707",
      "metadata": {},
      "outputs": [
        {
          "name": "stdout",
          "output_type": "stream",
          "text": [
            "              precision    recall  f1-score   support\n",
            "\n",
            " No Purchase       0.97      0.80      0.88   2921284\n",
            "    Purchase       0.13      0.57      0.22    161959\n",
            "\n",
            "    accuracy                           0.79   3083243\n",
            "   macro avg       0.55      0.68      0.55   3083243\n",
            "weighted avg       0.93      0.79      0.84   3083243\n",
            "\n",
            "The ROC AUC score of the tree is 68.288 %\n"
          ]
        },
        {
          "data": {
            "image/png": "[encoded data removed]",
            "text/plain": [
              "<Figure size 576x360 with 1 Axes>"
            ]
          },
          "metadata": {
            "needs_background": "light"
          },
          "output_type": "display_data"
        }
      ],
      "source": [
        "mat = confusion_matrix(y_test, y_pred_lr1)\n",
        "sns.heatmap(mat.T, square = True, annot = True, fmt = 'd', cbar = False, xticklabels = ['No Purchase','Purchase'],\n",
        "            yticklabels = ['No Purchase','Purchase'], cmap=\"Blues\")\n",
        "plt.xlabel('true label')\n",
        "plt.ylabel('predicted label')\n",
        "print(classification_report(y_test_sc, y_pred_lr1, target_names=['No Purchase','Purchase']))\n",
        "print(\"The ROC AUC score of the LR is\", round(roc_auc_score(y_test_sc, y_pred_lr1)*100,3),'%')"
      ]
    },
    {
      "cell_type": "markdown",
      "id": "ea3f99d9",
      "metadata": {},
      "source": [
        "#### Undersampling"
      ]
    },
    {
      "cell_type": "code",
      "execution_count": 72,
      "id": "f9a79173",
      "metadata": {},
      "outputs": [
        {
          "name": "stdout",
          "output_type": "stream",
          "text": [
            "The accuracy of the logistic regression is 40.255 %\n"
          ]
        }
      ],
      "source": [
        "LR = LogisticRegression()\n",
        "LR.fit(X_train_sc_un, y_train_sc_un)\n",
        "y_pred_lr2 = LR.predict(X_test_sc)\n",
        "print(\"The accuracy of the logistic regression is\", round(metrics.accuracy_score(y_test_sc, y_pred_lr2)*100,3),'%')"
      ]
    },
    {
      "cell_type": "code",
      "execution_count": 73,
      "id": "504c5996",
      "metadata": {
        "scrolled": false
      },
      "outputs": [
        {
          "name": "stdout",
          "output_type": "stream",
          "text": [
            "              precision    recall  f1-score   support\n",
            "\n",
            " No Purchase       0.98      0.38      0.55   2921284\n",
            "    Purchase       0.07      0.85      0.13    161959\n",
            "\n",
            "    accuracy                           0.40   3083243\n",
            "   macro avg       0.52      0.61      0.34   3083243\n",
            "weighted avg       0.93      0.40      0.52   3083243\n",
            "\n",
            "The ROC AUC score of the tree is 61.336 %\n"
          ]
        },
        {
          "data": {
            "image/png": "[encoded data removed]",
            "text/plain": [
              "<Figure size 576x360 with 1 Axes>"
            ]
          },
          "metadata": {
            "needs_background": "light"
          },
          "output_type": "display_data"
        }
      ],
      "source": [
        "mat = confusion_matrix(y_test, y_pred_lr2)\n",
        "sns.heatmap(mat.T, square = True, annot = True, fmt = 'd', cbar = False, xticklabels = ['No Purchase','Purchase'],\n",
        "            yticklabels = ['No Purchase','Purchase'], cmap=\"Blues\")\n",
        "plt.xlabel('true label')\n",
        "plt.ylabel('predicted label')\n",
        "print(classification_report(y_test_sc, y_pred_lr2, target_names=['No Purchase','Purchase']))\n",
        "print(\"The ROC AUC score of the LR is\", round(roc_auc_score(y_test, y_pred_lr2)*100,3),'%')"
      ]
    },
    {
      "cell_type": "markdown",
      "id": "9679b712",
      "metadata": {},
      "source": [
        "### Naïve Bayes Classifier"
      ]
    },
    {
      "cell_type": "code",
      "execution_count": 41,
      "id": "68755d74",
      "metadata": {},
      "outputs": [
        {
          "name": "stdout",
          "output_type": "stream",
          "text": [
            "The accuracy of the Naive Bayes classifier is 91.187 %\n"
          ]
        },
        {
          "data": {
            "image/png": "[encoded data removed]",
            "text/plain": [
              "<Figure size 360x360 with 1 Axes>"
            ]
          },
          "metadata": {
            "needs_background": "light"
          },
          "output_type": "display_data"
        },
        {
          "name": "stdout",
          "output_type": "stream",
          "text": [
            "              precision    recall  f1-score   support\n",
            "\n",
            " No Purchase       0.96      0.95      0.95   2921284\n",
            "    Purchase       0.20      0.22      0.21    161959\n",
            "\n",
            "    accuracy                           0.91   3083243\n",
            "   macro avg       0.58      0.59      0.58   3083243\n",
            "weighted avg       0.92      0.91      0.91   3083243\n",
            "\n",
            "The ROC AUC score of the tree is 58.699 %\n"
          ]
        }
      ],
      "source": [
        "gnb = GaussianNB()\n",
        "gnb.fit(X_train, y_train)\n",
        "\n",
        "y_pred_gnb = gnb.predict(X_test)\n",
        "print(\"The accuracy of the Naive Bayes classifier is\", round(metrics.accuracy_score(y_test, y_pred_gnb)*100,3),'%')\n",
        "\n",
        "fig, ax = plt.subplots(figsize=(5,5))\n",
        "mat = confusion_matrix(y_test, y_pred_gnb)\n",
        "sns.heatmap(mat.T, square = True, annot = True, fmt = 'd', cbar = False, xticklabels = ['No Purchase','Purchase'],\n",
        "            yticklabels = ['No Purchase','Purchase'], cmap=\"Blues\")\n",
        "plt.xlabel('true label')\n",
        "plt.ylabel('predicted label')\n",
        "plt.show()\n",
        "print(classification_report(y_test, y_pred_gnb, target_names=['No Purchase','Purchase']))\n",
        "print(\"The ROC AUC score of the NB is\", round(roc_auc_score(y_test, y_pred_gnb)*100,3),'%')"
      ]
    },
    {
      "cell_type": "code",
      "execution_count": 53,
      "id": "055ae1a8",
      "metadata": {},
      "outputs": [
        {
          "name": "stdout",
          "output_type": "stream",
          "text": [
            "The accuracy of the Naive Bayes classifier is 84.653 %\n"
          ]
        },
        {
          "data": {
            "image/png": "[encoded data removed]",
            "text/plain": [
              "<Figure size 360x360 with 1 Axes>"
            ]
          },
          "metadata": {
            "needs_background": "light"
          },
          "output_type": "display_data"
        },
        {
          "name": "stdout",
          "output_type": "stream",
          "text": [
            "              precision    recall  f1-score   support\n",
            "\n",
            " No Purchase       0.96      0.87      0.91   2921284\n",
            "    Purchase       0.15      0.42      0.22    161959\n",
            "\n",
            "    accuracy                           0.85   3083243\n",
            "   macro avg       0.56      0.65      0.57   3083243\n",
            "weighted avg       0.92      0.85      0.88   3083243\n",
            "\n",
            "The ROC AUC score of the tree is 64.676 %\n"
          ]
        }
      ],
      "source": [
        "gnb = GaussianNB()\n",
        "gnb.fit(X_train_ov, y_train_ov)\n",
        "\n",
        "y_pred_gnb = gnb.predict(X_test)\n",
        "print(\"The accuracy of the Naive Bayes classifier is\", round(metrics.accuracy_score(y_test, y_pred_gnb)*100,3),'%')\n",
        "\n",
        "fig, ax = plt.subplots(figsize=(5,5))\n",
        "mat = confusion_matrix(y_test, y_pred_gnb)\n",
        "sns.heatmap(mat.T, square = True, annot = True, fmt = 'd', cbar = False, xticklabels = ['No Purchase','Purchase'],\n",
        "            yticklabels = ['No Purchase','Purchase'], cmap=\"Blues\")\n",
        "plt.xlabel('true label')\n",
        "plt.ylabel('predicted label')\n",
        "plt.show()\n",
        "print(classification_report(y_test, y_pred_gnb, target_names=['No Purchase','Purchase']))\n",
        "print(\"The ROC AUC score of the NB is\", round(roc_auc_score(y_test, y_pred_gnb)*100,3),'%')"
      ]
    },
    {
      "cell_type": "markdown",
      "id": "8b88bad1",
      "metadata": {},
      "source": [
        "### Predicting items"
      ]
    },
    {
      "cell_type": "code",
      "execution_count": 42,
      "id": "e5a9864b",
      "metadata": {},
      "outputs": [],
      "source": [
        "clicks_df_dwell['primary_id'] = clicks_df_dwell[\"Session ID\"].astype(str) +\"_\"+ clicks_df_dwell[\"Item ID\"].astype(str)\n",
        "clicks_df_dwell2 = clicks_df_dwell.copy()\n",
        "clicks_df_dwell2 = clicks_df_dwell2.groupby('primary_id').sum('dwell')"
      ]
    },
    {
      "cell_type": "code",
      "execution_count": 43,
      "id": "288b0e9f",
      "metadata": {},
      "outputs": [
        {
          "data": {
            "text/html": [
              "<div>\n",
              "<style scoped>\n",
              "    .dataframe tbody tr th:only-of-type {\n",
              "        vertical-align: middle;\n",
              "    }\n",
              "\n",
              "    .dataframe tbody tr th {\n",
              "        vertical-align: top;\n",
              "    }\n",
              "\n",
              "    .dataframe thead th {\n",
              "        text-align: right;\n",
              "    }\n",
              "</style>\n",
              "<table border=\"1\" class=\"dataframe\">\n",
              "  <thead>\n",
              "    <tr style=\"text-align: right;\">\n",
              "      <th></th>\n",
              "      <th>primary_id</th>\n",
              "      <th>total_clicks</th>\n",
              "      <th>month</th>\n",
              "      <th>hour</th>\n",
              "      <th>weekday</th>\n",
              "      <th>dwell</th>\n",
              "    </tr>\n",
              "  </thead>\n",
              "  <tbody>\n",
              "    <tr>\n",
              "      <th>0</th>\n",
              "      <td>10000001_214556212</td>\n",
              "      <td>1</td>\n",
              "      <td>9</td>\n",
              "      <td>10</td>\n",
              "      <td>0</td>\n",
              "      <td>0.583333</td>\n",
              "    </tr>\n",
              "    <tr>\n",
              "      <th>1</th>\n",
              "      <td>10000001_214556216</td>\n",
              "      <td>1</td>\n",
              "      <td>9</td>\n",
              "      <td>10</td>\n",
              "      <td>0</td>\n",
              "      <td>0.266667</td>\n",
              "    </tr>\n",
              "    <tr>\n",
              "      <th>2</th>\n",
              "      <td>10000001_214854125</td>\n",
              "      <td>1</td>\n",
              "      <td>9</td>\n",
              "      <td>10</td>\n",
              "      <td>0</td>\n",
              "      <td>0.000000</td>\n",
              "    </tr>\n",
              "    <tr>\n",
              "      <th>3</th>\n",
              "      <td>10000001_214854230</td>\n",
              "      <td>2</td>\n",
              "      <td>9</td>\n",
              "      <td>10</td>\n",
              "      <td>0</td>\n",
              "      <td>12.033333</td>\n",
              "    </tr>\n",
              "    <tr>\n",
              "      <th>4</th>\n",
              "      <td>10000002_214714721</td>\n",
              "      <td>1</td>\n",
              "      <td>9</td>\n",
              "      <td>19</td>\n",
              "      <td>0</td>\n",
              "      <td>18.716667</td>\n",
              "    </tr>\n",
              "  </tbody>\n",
              "</table>\n",
              "</div>"
            ],
            "text/plain": [
              "           primary_id  total_clicks  month  hour  weekday      dwell\n",
              "0  10000001_214556212             1      9    10        0   0.583333\n",
              "1  10000001_214556216             1      9    10        0   0.266667\n",
              "2  10000001_214854125             1      9    10        0   0.000000\n",
              "3  10000001_214854230             2      9    10        0  12.033333\n",
              "4  10000002_214714721             1      9    19        0  18.716667"
            ]
          },
          "execution_count": 43,
          "metadata": {},
          "output_type": "execute_result"
        }
      ],
      "source": [
        "buys_df['primary_id'] = buys_df[\"Session ID\"].astype(str) +\"_\"+ buys_df[\"Item ID\"].astype(str)\n",
        "\n",
        "items_bought = set()\n",
        "for i in buys_df['primary_id']:\n",
        "    items_bought.add(i)\n",
        "\n",
        "buys_event = clicks_df.copy().reset_index()\n",
        "buys_event['primary_id'] = buys_event[\"Session ID\"].astype(str) +\"_\"+ buys_event[\"Item ID\"].astype(str)\n",
        "buys_event_final = buys_event.groupby('primary_id').agg({'primary_id': 'count', 'month': 'first', 'hour': 'first', \\\n",
        "                                                 'weekday': 'first', })\n",
        "buys_event_final['dwell'] = clicks_df_dwell2[\"dwell\"]\n",
        "buys_event_final = buys_event_final.rename(columns={'primary_id': 'total_clicks'})\n",
        "buys_event_final = buys_event_final.reset_index()\n",
        "buys_event_final.head()"
      ]
    },
    {
      "cell_type": "code",
      "execution_count": 44,
      "id": "2fd0c649",
      "metadata": {},
      "outputs": [],
      "source": [
        "item_popularity = clicks_df.copy().reset_index()\n",
        "item_popularity = item_popularity.groupby('Item ID')['Session ID'].count().reset_index()\n",
        "item_popularity['item'] = item_popularity['Item ID'].astype(str)\n",
        "item_popularity = item_popularity.rename(columns={'Session ID': 'popularity'})\n",
        "item_popularity = item_popularity.set_index('item').drop('Item ID', axis = 1)\n",
        "dict_popularity = item_popularity.T.to_dict('list')"
      ]
    },
    {
      "cell_type": "code",
      "execution_count": 45,
      "id": "df99497b",
      "metadata": {},
      "outputs": [],
      "source": [
        "buys_event_final['popularity'] = buys_event_final['primary_id'].apply(lambda x: dict_popularity[str(x[-9:])][0] \n",
        "                                                                      if str(x[-10:])[0] == '_'\n",
        "                                                                      else dict_popularity[str(x[-10:])][0]) \n",
        "buys_event_final['bought'] = buys_event_final['primary_id'].apply(lambda x: 1 if x in items_bought else 0)"
      ]
    },
    {
      "cell_type": "code",
      "execution_count": 46,
      "id": "dee07e41",
      "metadata": {},
      "outputs": [],
      "source": [
        "sessions_buys2 = set()\n",
        "for i in buys_df['Session ID']:\n",
        "    sessions_buys2.add(str(i))\n",
        "    \n",
        "buys_event_final['buy?'] = buys_event_final['primary_id'].apply(lambda x: 1 if x[:x.find('_')] in sessions_buys2 else 0)"
      ]
    },
    {
      "cell_type": "code",
      "execution_count": 47,
      "id": "dc39b7e6",
      "metadata": {},
      "outputs": [
        {
          "data": {
            "text/html": [
              "<div>\n",
              "<style scoped>\n",
              "    .dataframe tbody tr th:only-of-type {\n",
              "        vertical-align: middle;\n",
              "    }\n",
              "\n",
              "    .dataframe tbody tr th {\n",
              "        vertical-align: top;\n",
              "    }\n",
              "\n",
              "    .dataframe thead th {\n",
              "        text-align: right;\n",
              "    }\n",
              "</style>\n",
              "<table border=\"1\" class=\"dataframe\">\n",
              "  <thead>\n",
              "    <tr style=\"text-align: right;\">\n",
              "      <th></th>\n",
              "      <th>primary_id</th>\n",
              "      <th>total_clicks</th>\n",
              "      <th>month</th>\n",
              "      <th>hour</th>\n",
              "      <th>weekday</th>\n",
              "      <th>dwell</th>\n",
              "      <th>popularity</th>\n",
              "      <th>bought</th>\n",
              "      <th>buy?</th>\n",
              "    </tr>\n",
              "  </thead>\n",
              "  <tbody>\n",
              "    <tr>\n",
              "      <th>11</th>\n",
              "      <td>10000004_214851326</td>\n",
              "      <td>3</td>\n",
              "      <td>9</td>\n",
              "      <td>13</td>\n",
              "      <td>4</td>\n",
              "      <td>2.516667</td>\n",
              "      <td>46095</td>\n",
              "      <td>1</td>\n",
              "      <td>1</td>\n",
              "    </tr>\n",
              "    <tr>\n",
              "      <th>12</th>\n",
              "      <td>10000004_214853090</td>\n",
              "      <td>3</td>\n",
              "      <td>9</td>\n",
              "      <td>13</td>\n",
              "      <td>4</td>\n",
              "      <td>41.216667</td>\n",
              "      <td>46866</td>\n",
              "      <td>1</td>\n",
              "      <td>1</td>\n",
              "    </tr>\n",
              "    <tr>\n",
              "      <th>13</th>\n",
              "      <td>10000004_214853094</td>\n",
              "      <td>1</td>\n",
              "      <td>9</td>\n",
              "      <td>14</td>\n",
              "      <td>4</td>\n",
              "      <td>6.600000</td>\n",
              "      <td>125690</td>\n",
              "      <td>0</td>\n",
              "      <td>1</td>\n",
              "    </tr>\n",
              "    <tr>\n",
              "      <th>14</th>\n",
              "      <td>10000004_214853248</td>\n",
              "      <td>1</td>\n",
              "      <td>9</td>\n",
              "      <td>13</td>\n",
              "      <td>4</td>\n",
              "      <td>1.566667</td>\n",
              "      <td>30379</td>\n",
              "      <td>0</td>\n",
              "      <td>1</td>\n",
              "    </tr>\n",
              "    <tr>\n",
              "      <th>67</th>\n",
              "      <td>10000024_214510445</td>\n",
              "      <td>1</td>\n",
              "      <td>9</td>\n",
              "      <td>7</td>\n",
              "      <td>6</td>\n",
              "      <td>37.583333</td>\n",
              "      <td>28310</td>\n",
              "      <td>1</td>\n",
              "      <td>1</td>\n",
              "    </tr>\n",
              "    <tr>\n",
              "      <th>...</th>\n",
              "      <td>...</td>\n",
              "      <td>...</td>\n",
              "      <td>...</td>\n",
              "      <td>...</td>\n",
              "      <td>...</td>\n",
              "      <td>...</td>\n",
              "      <td>...</td>\n",
              "      <td>...</td>\n",
              "      <td>...</td>\n",
              "    </tr>\n",
              "    <tr>\n",
              "      <th>26615388</th>\n",
              "      <td>9999943_214854122</td>\n",
              "      <td>1</td>\n",
              "      <td>9</td>\n",
              "      <td>12</td>\n",
              "      <td>6</td>\n",
              "      <td>0.916667</td>\n",
              "      <td>6684</td>\n",
              "      <td>0</td>\n",
              "      <td>1</td>\n",
              "    </tr>\n",
              "    <tr>\n",
              "      <th>26615389</th>\n",
              "      <td>9999943_214854547</td>\n",
              "      <td>1</td>\n",
              "      <td>9</td>\n",
              "      <td>12</td>\n",
              "      <td>6</td>\n",
              "      <td>0.000000</td>\n",
              "      <td>16403</td>\n",
              "      <td>0</td>\n",
              "      <td>1</td>\n",
              "    </tr>\n",
              "    <tr>\n",
              "      <th>26615432</th>\n",
              "      <td>9999959_214846254</td>\n",
              "      <td>1</td>\n",
              "      <td>9</td>\n",
              "      <td>16</td>\n",
              "      <td>0</td>\n",
              "      <td>0.000000</td>\n",
              "      <td>6099</td>\n",
              "      <td>1</td>\n",
              "      <td>1</td>\n",
              "    </tr>\n",
              "    <tr>\n",
              "      <th>26615544</th>\n",
              "      <td>9999991_214531138</td>\n",
              "      <td>1</td>\n",
              "      <td>9</td>\n",
              "      <td>10</td>\n",
              "      <td>4</td>\n",
              "      <td>0.900000</td>\n",
              "      <td>198</td>\n",
              "      <td>0</td>\n",
              "      <td>1</td>\n",
              "    </tr>\n",
              "    <tr>\n",
              "      <th>26615545</th>\n",
              "      <td>9999991_214542356</td>\n",
              "      <td>2</td>\n",
              "      <td>9</td>\n",
              "      <td>10</td>\n",
              "      <td>4</td>\n",
              "      <td>2.566667</td>\n",
              "      <td>484</td>\n",
              "      <td>1</td>\n",
              "      <td>1</td>\n",
              "    </tr>\n",
              "  </tbody>\n",
              "</table>\n",
              "<p>2314687 rows × 9 columns</p>\n",
              "</div>"
            ],
            "text/plain": [
              "                  primary_id  total_clicks  month  hour  weekday      dwell  \\\n",
              "11        10000004_214851326             3      9    13        4   2.516667   \n",
              "12        10000004_214853090             3      9    13        4  41.216667   \n",
              "13        10000004_214853094             1      9    14        4   6.600000   \n",
              "14        10000004_214853248             1      9    13        4   1.566667   \n",
              "67        10000024_214510445             1      9     7        6  37.583333   \n",
              "...                      ...           ...    ...   ...      ...        ...   \n",
              "26615388   9999943_214854122             1      9    12        6   0.916667   \n",
              "26615389   9999943_214854547             1      9    12        6   0.000000   \n",
              "26615432   9999959_214846254             1      9    16        0   0.000000   \n",
              "26615544   9999991_214531138             1      9    10        4   0.900000   \n",
              "26615545   9999991_214542356             2      9    10        4   2.566667   \n",
              "\n",
              "          popularity  bought  buy?  \n",
              "11             46095       1     1  \n",
              "12             46866       1     1  \n",
              "13            125690       0     1  \n",
              "14             30379       0     1  \n",
              "67             28310       1     1  \n",
              "...              ...     ...   ...  \n",
              "26615388        6684       0     1  \n",
              "26615389       16403       0     1  \n",
              "26615432        6099       1     1  \n",
              "26615544         198       0     1  \n",
              "26615545         484       1     1  \n",
              "\n",
              "[2314687 rows x 9 columns]"
            ]
          },
          "execution_count": 47,
          "metadata": {},
          "output_type": "execute_result"
        }
      ],
      "source": [
        "buys_event_final2 = buys_event_final[buys_event_final['buy?'] == 1]\n",
        "buys_event_final2"
      ]
    },
    {
      "cell_type": "code",
      "execution_count": 114,
      "id": "bc9d0a01",
      "metadata": {},
      "outputs": [
        {
          "name": "stdout",
          "output_type": "stream",
          "text": [
            "The accuracy of the logistic regression is 64.787 %\n"
          ]
        }
      ],
      "source": [
        "y2 = buys_event_final2.loc[:, ['bought']]\n",
        "X2 = buys_event_final2.loc[:, ['total_clicks','month','hour','weekday','dwell','popularity']]\n",
        "X_s = StandardScaler().fit_transform(X2)\n",
        "X_scaled2 = pd.DataFrame(X_s, columns=X2.columns)\n",
        "X_train_sc2, X_test_sc2, y_train_sc2, y_test_sc2 = train_test_split(X_scaled2, y2, test_size = 1/3, random_state = 42, shuffle = False)\n",
        "\n",
        "LR2 = LogisticRegression()\n",
        "LR2.fit(X_train_sc2, y_train_sc2)\n",
        "y_pred_lr3 = LR2.predict(X_test_sc2)\n",
        "print(\"The accuracy of the logistic regression is\", round(metrics.accuracy_score(y_test_sc2, y_pred_lr3)*100,3),'%')"
      ]
    },
    {
      "cell_type": "code",
      "execution_count": 115,
      "id": "201a45bf",
      "metadata": {},
      "outputs": [
        {
          "data": {
            "image/png": "[encoded data removed]",
            "text/plain": [
              "<Figure size 576x360 with 1 Axes>"
            ]
          },
          "metadata": {
            "needs_background": "light"
          },
          "output_type": "display_data"
        },
        {
          "name": "stdout",
          "output_type": "stream",
          "text": [
            "              precision    recall  f1-score   support\n",
            "\n",
            "  Not Bought       0.63      0.83      0.72    415876\n",
            "      Bought       0.68      0.44      0.54    355687\n",
            "\n",
            "    accuracy                           0.65    771563\n",
            "   macro avg       0.66      0.63      0.63    771563\n",
            "weighted avg       0.66      0.65      0.63    771563\n",
            "\n",
            "The ROC AUC score of the logistic regression is 63.287 %\n"
          ]
        }
      ],
      "source": [
        "mat = confusion_matrix(y_test2, y_pred_lr3)\n",
        "sns.heatmap(mat.T, square = True, annot = True, fmt = 'd', cbar = False, xticklabels = ['Not Bought','Bought'],\n",
        "            yticklabels = ['Not Bought','Bought'], cmap=\"Reds\")\n",
        "plt.xlabel('true label')\n",
        "plt.ylabel('predicted label')\n",
        "plt.show()\n",
        "print(classification_report(y_test2, y_pred_lr3, target_names=['Not Bought','Bought']))\n",
        "print(\"The ROC AUC score of the logistic regression is\", round(roc_auc_score(y_test2, y_pred_lr3)*100,3),'%')"
      ]
    },
    {
      "cell_type": "markdown",
      "id": "cc3b82fb",
      "metadata": {},
      "source": [
        "### Evaluation Metric"
      ]
    },
    {
      "cell_type": "code",
      "execution_count": 153,
      "id": "71051dc0",
      "metadata": {},
      "outputs": [
        {
          "data": {
            "text/html": [
              "<style>#sk-container-id-10 {color: black;background-color: white;}#sk-container-id-10 pre{padding: 0;}#sk-container-id-10 div.sk-toggleable {background-color: white;}#sk-container-id-10 label.sk-toggleable__label {cursor: pointer;display: block;width: 100%;margin-bottom: 0;padding: 0.3em;box-sizing: border-box;text-align: center;}#sk-container-id-10 label.sk-toggleable__label-arrow:before {content: \"▸\";float: left;margin-right: 0.25em;color: #696969;}#sk-container-id-10 label.sk-toggleable__label-arrow:hover:before {color: black;}#sk-container-id-10 div.sk-estimator:hover label.sk-toggleable__label-arrow:before {color: black;}#sk-container-id-10 div.sk-toggleable__content {max-height: 0;max-width: 0;overflow: hidden;text-align: left;background-color: #f0f8ff;}#sk-container-id-10 div.sk-toggleable__content pre {margin: 0.2em;color: black;border-radius: 0.25em;background-color: #f0f8ff;}#sk-container-id-10 input.sk-toggleable__control:checked~div.sk-toggleable__content {max-height: 200px;max-width: 100%;overflow: auto;}#sk-container-id-10 input.sk-toggleable__control:checked~label.sk-toggleable__label-arrow:before {content: \"▾\";}#sk-container-id-10 div.sk-estimator input.sk-toggleable__control:checked~label.sk-toggleable__label {background-color: #d4ebff;}#sk-container-id-10 div.sk-label input.sk-toggleable__control:checked~label.sk-toggleable__label {background-color: #d4ebff;}#sk-container-id-10 input.sk-hidden--visually {border: 0;clip: rect(1px 1px 1px 1px);clip: rect(1px, 1px, 1px, 1px);height: 1px;margin: -1px;overflow: hidden;padding: 0;position: absolute;width: 1px;}#sk-container-id-10 div.sk-estimator {font-family: monospace;background-color: #f0f8ff;border: 1px dotted black;border-radius: 0.25em;box-sizing: border-box;margin-bottom: 0.5em;}#sk-container-id-10 div.sk-estimator:hover {background-color: #d4ebff;}#sk-container-id-10 div.sk-parallel-item::after {content: \"\";width: 100%;border-bottom: 1px solid gray;flex-grow: 1;}#sk-container-id-10 div.sk-label:hover label.sk-toggleable__label {background-color: #d4ebff;}#sk-container-id-10 div.sk-serial::before {content: \"\";position: absolute;border-left: 1px solid gray;box-sizing: border-box;top: 0;bottom: 0;left: 50%;z-index: 0;}#sk-container-id-10 div.sk-serial {display: flex;flex-direction: column;align-items: center;background-color: white;padding-right: 0.2em;padding-left: 0.2em;position: relative;}#sk-container-id-10 div.sk-item {position: relative;z-index: 1;}#sk-container-id-10 div.sk-parallel {display: flex;align-items: stretch;justify-content: center;background-color: white;position: relative;}#sk-container-id-10 div.sk-item::before, #sk-container-id-10 div.sk-parallel-item::before {content: \"\";position: absolute;border-left: 1px solid gray;box-sizing: border-box;top: 0;bottom: 0;left: 50%;z-index: -1;}#sk-container-id-10 div.sk-parallel-item {display: flex;flex-direction: column;z-index: 1;position: relative;background-color: white;}#sk-container-id-10 div.sk-parallel-item:first-child::after {align-self: flex-end;width: 50%;}#sk-container-id-10 div.sk-parallel-item:last-child::after {align-self: flex-start;width: 50%;}#sk-container-id-10 div.sk-parallel-item:only-child::after {width: 0;}#sk-container-id-10 div.sk-dashed-wrapped {border: 1px dashed gray;margin: 0 0.4em 0.5em 0.4em;box-sizing: border-box;padding-bottom: 0.4em;background-color: white;}#sk-container-id-10 div.sk-label label {font-family: monospace;font-weight: bold;display: inline-block;line-height: 1.2em;}#sk-container-id-10 div.sk-label-container {text-align: center;}#sk-container-id-10 div.sk-container {/* jupyter's `normalize.less` sets `[hidden] { display: none; }` but bootstrap.min.css set `[hidden] { display: none !important; }` so we also need the `!important` here to be able to override the default hidden behavior on the sphinx rendered scikit-learn.org. See: https://github.com/scikit-learn/scikit-learn/issues/21755 */display: inline-block !important;position: relative;}#sk-container-id-10 div.sk-text-repr-fallback {display: none;}</style><div id=\"sk-container-id-10\" class=\"sk-top-container\"><div class=\"sk-text-repr-fallback\"><pre>LogisticRegression()</pre><b>In a Jupyter environment, please rerun this cell to show the HTML representation or trust the notebook. <br />On GitHub, the HTML representation is unable to render, please try loading this page with nbviewer.org.</b></div><div class=\"sk-container\" hidden><div class=\"sk-item\"><div class=\"sk-estimator sk-toggleable\"><input class=\"sk-toggleable__control sk-hidden--visually\" id=\"sk-estimator-id-10\" type=\"checkbox\" checked><label for=\"sk-estimator-id-10\" class=\"sk-toggleable__label sk-toggleable__label-arrow\">LogisticRegression</label><div class=\"sk-toggleable__content\"><pre>LogisticRegression()</pre></div></div></div></div></div>"
            ],
            "text/plain": [
              "LogisticRegression()"
            ]
          },
          "execution_count": 153,
          "metadata": {},
          "output_type": "execute_result"
        }
      ],
      "source": [
        "y = clicks_df_final.loc[:, ['buy?']]\n",
        "X = clicks_df_final.loc[:, ['all_views','duration','click_rate_min','unique_views','weekday','hour','day','month', \\\n",
        "                            'holidays','max_dwell','mean_dwell','most_viewed', 'Session ID']]\n",
        "X = X.set_index('Session ID')\n",
        "X_train, X_test, y_train, y_test = train_test_split(X, y, test_size = 1/3, random_state = 42, shuffle = False)\n",
        "LR1 = LogisticRegression()\n",
        "LR1.fit(X_train_sc_ov, y_train_sc_ov)"
      ]
    },
    {
      "cell_type": "code",
      "execution_count": 154,
      "id": "79a95795",
      "metadata": {},
      "outputs": [
        {
          "name": "stdout",
          "output_type": "stream",
          "text": [
            "Session predicitons done\n",
            "Items predictions for all sessions predicted as 1 initialised\n",
            "Items prediction saved\n",
            "Sessions predictions saved\n",
            "Items predictions for only sessions predicted and originally labelled as 1 initialised\n",
            "Items predicitons done\n",
            "Jaccard score computed\n",
            "Calculating sessions score\n",
            "Returning overall score\n"
          ]
        },
        {
          "data": {
            "text/plain": [
              "2213.5710787050066"
            ]
          },
          "execution_count": 154,
          "metadata": {},
          "output_type": "execute_result"
        }
      ],
      "source": [
        "def evaluation_metric(X_train_sc_ov, y_train_sc_ov, X_test, y_test):\n",
        "    score = 0\n",
        "    y_pred_lr = LR1.predict(X_test)\n",
        "    print('Session predicitons done')\n",
        "    X_test['y_pred'] = y_pred_lr\n",
        "    X_test['y_true'] = y_test.values.ravel()\n",
        "    predicted_session = list(X_test[X_test.y_pred == 1].index.astype(str))\n",
        "    \n",
        "    print('Items predictions for all sessions predicted as 1 initialised')\n",
        "    # all sessions predicted as purchased (not included in scoring performance)\n",
        "    #buys_event_final['predicted'] = buys_event_final['primary_id'].apply(lambda x: 1 if x[:x.find('_')] in predicted_session else 0)\n",
        "    #df2 = buys_event_final[buys_event_final['predicted'] == 1]\n",
        "    #df2 = df2.set_index('primary_id')\n",
        "    #y_test2 = df2.loc[:, ['bought']]\n",
        "    #X2 = df2.loc[:, ['total_clicks','month','hour','weekday','dwell','popularity']]\n",
        "    #X_s = StandardScaler().fit_transform(X2)\n",
        "    #X_test2 = pd.DataFrame(X_s, columns=X2.columns)\n",
        "    #y_pred2 = LR2.predict(X_test2)\n",
        "    #X2['bought'] = y_test2.values.ravel()\n",
        "    #X2['prediction'] = y_pred2\n",
        "    #X2.to_csv('prediction_items_csv.csv')\n",
        "    #X_test.to_csv('prediction_sessions_csv.csv')\n",
        "    print('Items prediction saved')\n",
        "    print('Sessions predictions saved')\n",
        "    \n",
        "    print('Items predictions for only sessions predicted and originally labelled as 1 initialised')\n",
        "    # only sessions predicted and originally labelled as purchased (inluded in scoring performance)\n",
        "    buys_event_final2['predicted'] = buys_event_final2['primary_id'].apply(lambda x: 1 if x[:x.find('_')] in predicted_session else 0)\n",
        "    df3 = buys_event_final2[buys_event_final2['predicted'] == 1]\n",
        "    df3 = df3.set_index('primary_id')\n",
        "    y_test3 = df3.loc[:, ['bought']]\n",
        "    X3 = df3.loc[:, ['total_clicks','month','hour','weekday','dwell','popularity']]\n",
        "    X_s = StandardScaler().fit_transform(X3)\n",
        "    X_test3 = pd.DataFrame(X_s, columns=X3.columns)\n",
        "    print('Items predicitons done')\n",
        "    y_pred3 = LR2.predict(X_test3)\n",
        "    X3['B_s'] = y_test3.values.ravel()\n",
        "    X3['A_s'] = y_pred3\n",
        "    X3['A_s ∩ B_s'] = -abs(X3['B_s'] - X3['A_s']) + 1\n",
        "    X3['A_s ∪ B_s'] = X3.apply(lambda x: x['A_s'] if  x['A_s'] == x['B_s'] == 0 else 1, axis = 1)\n",
        "    X3 = X3.reset_index()\n",
        "    X3['Session ID'] = X3['primary_id'].apply(lambda x: x[:x.find('_')])\n",
        "    X4 = X3.groupby('Session ID')['A_s ∩ B_s', 'A_s ∪ B_s'].sum()\n",
        "    X4 = X4.reset_index()\n",
        "    X4['score'] = X4['A_s ∩ B_s']/X4['A_s ∪ B_s']\n",
        "    jaccard = sum(X4['score'])\n",
        "    print('Jaccard score computed')\n",
        "    \n",
        "    S_b = sum(y_test['buy?'] == 1)\n",
        "    S = len(y_test)\n",
        "    \n",
        "    print('Calculating sessions score')\n",
        "    for i,j in zip(y_pred_lr,y_test.values.ravel()):\n",
        "        if i == j == 1:\n",
        "            score += (S_b/S)\n",
        "        elif i == 1 and j == 0:\n",
        "            score += (S_b/S)\n",
        "    print('Returning overall score')\n",
        "    \n",
        "    return score + jaccard\n",
        "        \n",
        "evaluation_metric(X_train_sc_ov, y_train_sc_ov, X_test, y_test)"
      ]
    }
  ],
  "metadata": {
    "hide_input": false,
    "kernelspec": {
      "display_name": "Python 3 (ipykernel)",
      "language": "python",
      "name": "python3"
    },
    "language_info": {
      "codemirror_mode": {
        "name": "ipython",
        "version": 3
      },
      "file_extension": ".py",
      "mimetype": "text/x-python",
      "name": "python",
      "nbconvert_exporter": "python",
      "pygments_lexer": "ipython3",
      "version": "3.8.2"
    }
  },
  "nbformat": 4,
  "nbformat_minor": 5
}